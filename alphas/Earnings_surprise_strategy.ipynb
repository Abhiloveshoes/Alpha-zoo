{
 "cells": [
  {
   "cell_type": "code",
   "execution_count": 2,
   "id": "6d66a127",
   "metadata": {},
   "outputs": [
    {
     "name": "stderr",
     "output_type": "stream",
     "text": [
      "/home/codespace/.python/current/lib/python3.12/site-packages/yfinance/scrapers/fundamentals.py:33: DeprecationWarning: 'Ticker.earnings' is deprecated as not available via API. Look for \"Net Income\" in Ticker.income_stmt.\n",
      "  warnings.warn(\"'Ticker.earnings' is deprecated as not available via API. Look for \\\"Net Income\\\" in Ticker.income_stmt.\", DeprecationWarning)\n",
      "[*********************100%***********************]  1 of 1 completed"
     ]
    },
    {
     "name": "stdout",
     "output_type": "stream",
     "text": [
      "Calendar Info:\n",
      " {'Dividend Date': datetime.date(2025, 2, 13), 'Ex-Dividend Date': datetime.date(2025, 2, 10), 'Earnings Date': [datetime.date(2025, 5, 1)], 'Earnings High': 1.67, 'Earnings Low': 1.47, 'Earnings Average': 1.61038, 'Revenue High': 95903397000, 'Revenue Low': 89400000000, 'Revenue Average': 93961131880}\n"
     ]
    },
    {
     "name": "stderr",
     "output_type": "stream",
     "text": [
      "\n",
      "/home/codespace/.python/current/lib/python3.12/site-packages/yfinance/scrapers/fundamentals.py:33: DeprecationWarning: 'Ticker.earnings' is deprecated as not available via API. Look for \"Net Income\" in Ticker.income_stmt.\n",
      "  warnings.warn(\"'Ticker.earnings' is deprecated as not available via API. Look for \\\"Net Income\\\" in Ticker.income_stmt.\", DeprecationWarning)\n"
     ]
    },
    {
     "ename": "AttributeError",
     "evalue": "'NoneType' object has no attribute 'reset_index'",
     "output_type": "error",
     "traceback": [
      "\u001b[31m---------------------------------------------------------------------------\u001b[39m",
      "\u001b[31mAttributeError\u001b[39m                            Traceback (most recent call last)",
      "\u001b[36mCell\u001b[39m\u001b[36m \u001b[39m\u001b[32mIn[2]\u001b[39m\u001b[32m, line 26\u001b[39m\n\u001b[32m     23\u001b[39m price_data = yf.download(ticker, start=\u001b[33m\"\u001b[39m\u001b[33m2018-01-01\u001b[39m\u001b[33m\"\u001b[39m, end=\u001b[33m\"\u001b[39m\u001b[33m2025-01-01\u001b[39m\u001b[33m\"\u001b[39m)[\u001b[33m'\u001b[39m\u001b[33mClose\u001b[39m\u001b[33m'\u001b[39m]\n\u001b[32m     25\u001b[39m \u001b[38;5;66;03m# === Load earnings history from Ticker.earnings\u001b[39;00m\n\u001b[32m---> \u001b[39m\u001b[32m26\u001b[39m earnings = \u001b[43mstock\u001b[49m\u001b[43m.\u001b[49m\u001b[43mearnings\u001b[49m\u001b[43m.\u001b[49m\u001b[43mreset_index\u001b[49m()\n\u001b[32m     27\u001b[39m earnings.columns = [\u001b[33m'\u001b[39m\u001b[33mYear\u001b[39m\u001b[33m'\u001b[39m, \u001b[33m'\u001b[39m\u001b[33mRevenue\u001b[39m\u001b[33m'\u001b[39m, \u001b[33m'\u001b[39m\u001b[33mEarnings\u001b[39m\u001b[33m'\u001b[39m]\n\u001b[32m     29\u001b[39m \u001b[38;5;66;03m# Manual override if earnings surprises not available via yfinance\u001b[39;00m\n\u001b[32m     30\u001b[39m \u001b[38;5;66;03m# Example placeholder earnings surprise dataframe:\u001b[39;00m\n",
      "\u001b[31mAttributeError\u001b[39m: 'NoneType' object has no attribute 'reset_index'"
     ]
    }
   ],
   "source": [
    "import yfinance as yf\n",
    "import pandas as pd\n",
    "import matplotlib.pyplot as plt\n",
    "\n",
    "# === Config ===\n",
    "ticker = \"AAPL\"\n",
    "surprise_threshold = 5  # in percent\n",
    "holding_days = 5\n",
    "\n",
    "# === Fetch earnings calendar from yfinance\n",
    "stock = yf.Ticker(ticker)\n",
    "earnings = stock.earnings\n",
    "earnings_dates = stock.earnings_dates\n",
    "\n",
    "# Check and use available earnings surprise data\n",
    "try:\n",
    "    cal = stock.calendar\n",
    "    print(\"Calendar Info:\\n\", cal)\n",
    "except:\n",
    "    print(\"No calendar data available.\")\n",
    "\n",
    "# === Download price data\n",
    "price_data = yf.download(ticker, start=\"2018-01-01\", end=\"2025-01-01\")['Close']\n",
    "\n",
    "# === Load earnings history from Ticker.earnings\n",
    "earnings = stock.earnings.reset_index()\n",
    "earnings.columns = ['Year', 'Revenue', 'Earnings']\n",
    "\n",
    "# Manual override if earnings surprises not available via yfinance\n",
    "# Example placeholder earnings surprise dataframe:\n",
    "earnings_surprise = pd.DataFrame({\n",
    "    'date': pd.to_datetime([\n",
    "        '2023-01-26', '2023-04-27', '2023-07-27', '2023-11-02',\n",
    "        '2024-02-01'\n",
    "    ]),\n",
    "    'surprise_pct': [10.1, -7.3, 6.2, -5.4, 12.5]  # Example data\n",
    "})\n",
    "\n",
    "# === Signal Generation\n",
    "signals = []\n",
    "for _, row in earnings_surprise.iterrows():\n",
    "    date = row['date']\n",
    "    surprise = row['surprise_pct']\n",
    "    signal = 1 if surprise > surprise_threshold else -1 if surprise < -surprise_threshold else 0\n",
    "\n",
    "    if signal == 0 or date not in price_data.index:\n",
    "        continue\n",
    "\n",
    "    try:\n",
    "        entry_price = price_data.loc[date]\n",
    "        exit_date = price_data.index[price_data.index.get_loc(date) + holding_days]\n",
    "        exit_price = price_data.loc[exit_date]\n",
    "        ret = (exit_price - entry_price) / entry_price * signal\n",
    "        signals.append({\n",
    "            'entry_date': date,\n",
    "            'exit_date': exit_date,\n",
    "            'return': ret,\n",
    "            'signal': signal,\n",
    "            'surprise': surprise\n",
    "        })\n",
    "    except:\n",
    "        continue\n",
    "\n",
    "df_returns = pd.DataFrame(signals)\n",
    "df_returns['cumulative_return'] = (1 + df_returns['return']).cumprod()\n",
    "\n",
    "# === Plot Results\n",
    "plt.figure(figsize=(10, 5))\n",
    "plt.plot(df_returns['entry_date'], df_returns['cumulative_return'], marker='o')\n",
    "plt.title(f'Alpha 12: Earnings Surprise Strategy — {ticker}')\n",
    "plt.xlabel('Earnings Date')\n",
    "plt.ylabel('Cumulative Return')\n",
    "plt.grid(True)\n",
    "plt.tight_layout()\n",
    "plt.show()\n",
    "\n",
    "# === Summary\n",
    "print(\"Total Trades:\", len(df_returns))\n",
    "print(\"Average Return per Trade: {:.2f}%\".format(df_returns['return'].mean() * 100))\n",
    "print(\"Cumulative Return: {:.2f}x\".format(df_returns['cumulative_return'].iloc[-1]))\n"
   ]
  }
 ],
 "metadata": {
  "kernelspec": {
   "display_name": "Python 3",
   "language": "python",
   "name": "python3"
  },
  "language_info": {
   "codemirror_mode": {
    "name": "ipython",
    "version": 3
   },
   "file_extension": ".py",
   "mimetype": "text/x-python",
   "name": "python",
   "nbconvert_exporter": "python",
   "pygments_lexer": "ipython3",
   "version": "3.12.1"
  }
 },
 "nbformat": 4,
 "nbformat_minor": 5
}
